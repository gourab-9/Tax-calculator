{
 "cells": [
  {
   "cell_type": "markdown",
   "id": "c96a7463",
   "metadata": {},
   "source": [
    "# Tom Nook’s Program"
   ]
  },
  {
   "cell_type": "code",
   "execution_count": 67,
   "id": "34b045ef",
   "metadata": {},
   "outputs": [],
   "source": [
    "import random\n",
    "\n",
    "class TomNooksProgram:\n",
    "    def __init__(self):\n",
    "        self.word_bank = [\"orange\", \"building\", \"apple\", \"computer\", \"house\", \"banana\"]\n",
    "\n",
    "    def menu(self):\n",
    "        user_input = input(\"\"\"\n",
    "        Select one of the following options:\n",
    "        [A] : Income tax Calculator\n",
    "        [B] : Create an employee account\n",
    "        [C] : End this program\n",
    "        \"\"\").upper()\n",
    "        \n",
    "        if user_input == 'A':\n",
    "            self.tax_calculator()\n",
    "            \n",
    "        elif user_input == 'B':\n",
    "            self.employee_account()\n",
    "            \n",
    "        elif user_input == 'C':\n",
    "            print(\"Exiting the program.\")\n",
    "            return\n",
    "        else:\n",
    "            print(\"Invalid option. Please select a valid option.\")\n",
    "            self.menu()\n",
    "            \n",
    "    def tax_calculator(self):\n",
    "        print('You have selected Income tax calculator')\n",
    "        try:\n",
    "            amount = int(input('Enter your annual salary :->'))\n",
    "            if amount >= 0:\n",
    "                tax_amount = amount * 0.04\n",
    "                print('You have to pay your tax is {}'.format(tax_amount))\n",
    "            else:\n",
    "                print('Enter a valid amount ')\n",
    "        except ValueError:\n",
    "            print('Please enter a valid integer amount.')\n",
    "        self.menu()\n",
    "        \n",
    "    def generate_password(self):\n",
    "        random_word = random.choice(self.word_bank)\n",
    "        random_number = random.randint(10, 100)\n",
    "        password = random_word + str(random_number)\n",
    "        return password\n",
    "\n",
    "    def employee_account(self):\n",
    "        print('Welcome to the Employee Account Creation')\n",
    "        f_name = input('Enter your First Name :-> ')\n",
    "        l_name = input('Enter your Last Name :-> ')\n",
    "        user_name = f_name[0:3] + l_name[0:4]\n",
    "        password = self.generate_password()\n",
    "        print('Your Username is '+ user_name)\n",
    "        print('Your Password is '+ password)\n",
    "        self.menu()\n",
    "        \n"
   ]
  },
  {
   "cell_type": "code",
   "execution_count": 70,
   "id": "ef023d3d",
   "metadata": {},
   "outputs": [],
   "source": [
    "obj = TomNooksProgram()"
   ]
  },
  {
   "cell_type": "code",
   "execution_count": 73,
   "id": "e8a51395",
   "metadata": {},
   "outputs": [
    {
     "name": "stdout",
     "output_type": "stream",
     "text": [
      "\n",
      "        Select one of the following options:\n",
      "        [A] : Income tax Calculator\n",
      "        [B] : Create an employee account\n",
      "        [C] : End this program\n",
      "        a\n",
      "You have selected Income tax calculator\n",
      "Enter your annual salary :->-987873\n",
      "Enter a valid amount \n",
      "\n",
      "        Select one of the following options:\n",
      "        [A] : Income tax Calculator\n",
      "        [B] : Create an employee account\n",
      "        [C] : End this program\n",
      "        a\n",
      "You have selected Income tax calculator\n",
      "Enter your annual salary :->gourab\n",
      "Please enter a valid integer amount.\n",
      "\n",
      "        Select one of the following options:\n",
      "        [A] : Income tax Calculator\n",
      "        [B] : Create an employee account\n",
      "        [C] : End this program\n",
      "        a\n",
      "You have selected Income tax calculator\n",
      "Enter your annual salary :->50000000\n",
      "You have to pay your tax is 2000000.0\n",
      "\n",
      "        Select one of the following options:\n",
      "        [A] : Income tax Calculator\n",
      "        [B] : Create an employee account\n",
      "        [C] : End this program\n",
      "        b\n",
      "Welcome to the Employee Account Creation\n",
      "Enter your First Name :-> gourab\n",
      "Enter your Last Name :-> kumar\n",
      "Your Username is goukuma\n",
      "Your Password is apple88\n",
      "\n",
      "        Select one of the following options:\n",
      "        [A] : Income tax Calculator\n",
      "        [B] : Create an employee account\n",
      "        [C] : End this program\n",
      "        c\n",
      "Exiting the program.\n"
     ]
    }
   ],
   "source": [
    "obj.menu()"
   ]
  },
  {
   "cell_type": "code",
   "execution_count": null,
   "id": "c11634ca",
   "metadata": {},
   "outputs": [],
   "source": []
  }
 ],
 "metadata": {
  "kernelspec": {
   "display_name": "Python 3 (ipykernel)",
   "language": "python",
   "name": "python3"
  },
  "language_info": {
   "codemirror_mode": {
    "name": "ipython",
    "version": 3
   },
   "file_extension": ".py",
   "mimetype": "text/x-python",
   "name": "python",
   "nbconvert_exporter": "python",
   "pygments_lexer": "ipython3",
   "version": "3.10.9"
  }
 },
 "nbformat": 4,
 "nbformat_minor": 5
}
